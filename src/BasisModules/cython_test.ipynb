{
 "cells": [
  {
   "cell_type": "code",
   "execution_count": 1,
   "metadata": {},
   "outputs": [],
   "source": [
    "import numpy as np\n",
    "import scipy.special as sc\n",
    "import time\n",
    "\n",
    "from cython_functions import Jv, Jvp, Sin, Cos\n",
    "#import FourierBessel_cy\n",
    "\n",
    "from pylab import *\n",
    "%matplotlib inline\n",
    "\n",
    "\n",
    "rc('text', usetex=False)\n",
    "rc('font', size = 10)\n",
    "rc('xtick', labelsize='medium')\n",
    "rc('ytick', labelsize='medium')\n",
    "rc('axes', labelsize='medium')\n",
    "rc('legend', fontsize='small')\n",
    "rc('figure', figsize=(8.6/2.54, 8.6/2.54*0.75))\n",
    "rc('lines', linewidth=1.5)\n",
    "rcParams[\"axes.formatter.limits\"] = (-3,4) "
   ]
  },
  {
   "cell_type": "code",
   "execution_count": 2,
   "metadata": {},
   "outputs": [],
   "source": [
    "x = np.linspace(0,10,int(1e7))\n",
    "order = 0"
   ]
  },
  {
   "cell_type": "code",
   "execution_count": 3,
   "metadata": {},
   "outputs": [
    {
     "name": "stdout",
     "output_type": "stream",
     "text": [
      "3.597360372543335 seconds\n",
      "0.6923985481262207 seconds\n"
     ]
    }
   ],
   "source": [
    "start_time = time.time()\n",
    "y = sc.jv(order, x) \n",
    "print(\"%s seconds\" % (time.time() - start_time))\n",
    "start_time = time.time()\n",
    "z = Jv(order, x) \n",
    "print(\"%s seconds\" % (time.time() - start_time))"
   ]
  },
  {
   "cell_type": "code",
   "execution_count": 4,
   "metadata": {},
   "outputs": [
    {
     "name": "stdout",
     "output_type": "stream",
     "text": [
      "7.519954442977905 seconds\n",
      "1.4118702411651611 seconds\n"
     ]
    }
   ],
   "source": [
    "start_time = time.time()\n",
    "y = sc.jvp(order, x) \n",
    "print(\"%s seconds\" % (time.time() - start_time))\n",
    "start_time = time.time()\n",
    "z = Jvp(order, x) \n",
    "print(\"%s seconds\" % (time.time() - start_time))"
   ]
  },
  {
   "cell_type": "code",
   "execution_count": 10,
   "metadata": {},
   "outputs": [
    {
     "name": "stdout",
     "output_type": "stream",
     "text": [
      "0.09261012077331543 seconds\n",
      "0.017721176147460938 seconds\n"
     ]
    }
   ],
   "source": [
    "start_time = time.time()\n",
    "y = np.sin(x) \n",
    "print(\"%s seconds\" % (time.time() - start_time))\n",
    "start_time = time.time()\n",
    "z = Sin( x) \n",
    "print(\"%s seconds\" % (time.time() - start_time))"
   ]
  },
  {
   "cell_type": "code",
   "execution_count": 9,
   "metadata": {},
   "outputs": [
    {
     "name": "stdout",
     "output_type": "stream",
     "text": [
      "0.09207963943481445 seconds\n",
      "0.016861438751220703 seconds\n"
     ]
    }
   ],
   "source": [
    "start_time = time.time()\n",
    "y = np.cos(x) \n",
    "print(\"%s seconds\" % (time.time() - start_time))\n",
    "start_time = time.time()\n",
    "z = Cos( x) \n",
    "print(\"%s seconds\" % (time.time() - start_time))"
   ]
  }
 ],
 "metadata": {
  "kernelspec": {
   "display_name": "Python 3",
   "language": "python",
   "name": "python3"
  },
  "language_info": {
   "codemirror_mode": {
    "name": "ipython",
    "version": 3
   },
   "file_extension": ".py",
   "mimetype": "text/x-python",
   "name": "python",
   "nbconvert_exporter": "python",
   "pygments_lexer": "ipython3",
   "version": "3.7.9"
  }
 },
 "nbformat": 4,
 "nbformat_minor": 4
}
