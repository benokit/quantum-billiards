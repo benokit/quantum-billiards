{
 "cells": [
  {
   "cell_type": "code",
   "execution_count": 2,
   "metadata": {},
   "outputs": [],
   "source": [
    "import math as m\n",
    "\n",
    "import matplotlib.pyplot as pyp\n",
    "import numpy as np\n",
    "\n",
    "from src import husimiFunctions as hf\n",
    "from src import spectrumUtilities as su\n",
    "from src import verginiSaraceno as vs"
   ]
  },
  {
   "cell_type": "code",
   "execution_count": 3,
   "metadata": {},
   "outputs": [],
   "source": []
  },
  {
   "cell_type": "code",
   "execution_count": 4,
   "metadata": {},
   "outputs": [],
   "source": [
    "def circle(N):\n",
    "    phi = np.linspace(0,2*np.pi,N)\n",
    "    x = np.cos(phi)\n",
    "    y = np.sin(phi)\n",
    "    nx = x\n",
    "    ny = y\n",
    "    return x, y, nx, ny, phi, 2*np.pi\n"
   ]
  },
  {
   "cell_type": "code",
   "execution_count": 5,
   "metadata": {},
   "outputs": [],
   "source": [
    "boundary_x, boundary_y, normal_x, normal_y, boundary_s, length = circle(200)"
   ]
  },
  {
   "cell_type": "code",
   "execution_count": 6,
   "metadata": {},
   "outputs": [],
   "source": [
    "circleBilliard = billiard(boundary_x, boundary_y, normal_x, normal_y, boundary_s, length)"
   ]
  },
  {
   "cell_type": "code",
   "execution_count": 7,
   "metadata": {},
   "outputs": [
    {
     "data": {
      "text/plain": [
       "array([11.7865745 , 12.22511943, 12.22511943])"
      ]
     },
     "execution_count": 7,
     "metadata": {},
     "output_type": "execute_result"
    }
   ],
   "source": [
    "k0 = 12\n",
    "dk = 0.25\n",
    "N = 200\n",
    "circleBilliard.scaling_eigenvalues(N, k0, dk)"
   ]
  },
  {
   "cell_type": "code",
   "execution_count": null,
   "metadata": {},
   "outputs": [],
   "source": []
  }
 ],
 "metadata": {
  "kernelspec": {
   "display_name": "Python 3",
   "language": "python",
   "name": "python3"
  },
  "language_info": {
   "codemirror_mode": {
    "name": "ipython",
    "version": 3
   },
   "file_extension": ".py",
   "mimetype": "text/x-python",
   "name": "python",
   "nbconvert_exporter": "python",
   "pygments_lexer": "ipython3",
   "version": "3.6.4"
  }
 },
 "nbformat": 4,
 "nbformat_minor": 2
}
