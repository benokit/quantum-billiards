{
 "cells": [
  {
   "cell_type": "code",
   "execution_count": 7,
   "metadata": {},
   "outputs": [
    {
     "name": "stdout",
     "output_type": "stream",
     "text": [
      "Parallel method took 10.9 seconds\n"
     ]
    }
   ],
   "source": [
    "import timeit\n",
    "\n",
    "import numpy as np\n",
    "\n",
    "from testPar import serial_G, parallel_G\n",
    "\n",
    "def main():\n",
    "    k = 1\n",
    "    x, y = np.linspace(-100, 100, 10000), np.linspace(-100, 100, 10000)\n",
    "    x, y = np.meshgrid(x, y)\n",
    "\n",
    "    def serial():\n",
    "        serial_G(k, x, y)\n",
    "\n",
    "    def parallel():\n",
    "        parallel_G(k, x, y)\n",
    "\n",
    "    #time_serial = timeit.timeit(serial, number=3)\n",
    "    time_parallel = timeit.timeit(parallel, number=3)\n",
    "    #print(\"Serial method took {:.3} seconds\".format(time_serial))\n",
    "    print(\"Parallel method took {:.3} seconds\".format(time_parallel))\n",
    "\n",
    "if __name__ == \"__main__\":\n",
    "    main()\n"
   ]
  },
  {
   "cell_type": "code",
   "execution_count": null,
   "metadata": {},
   "outputs": [],
   "source": []
  }
 ],
 "metadata": {
  "kernelspec": {
   "display_name": "Python 3",
   "language": "python",
   "name": "python3"
  },
  "language_info": {
   "codemirror_mode": {
    "name": "ipython",
    "version": 3
   },
   "file_extension": ".py",
   "mimetype": "text/x-python",
   "name": "python",
   "nbconvert_exporter": "python",
   "pygments_lexer": "ipython3",
   "version": "3.7.9"
  }
 },
 "nbformat": 4,
 "nbformat_minor": 4
}
